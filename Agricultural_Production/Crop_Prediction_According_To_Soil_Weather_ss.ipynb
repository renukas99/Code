{
 "cells": [
  {
   "cell_type": "markdown",
   "id": "28121a76",
   "metadata": {},
   "source": [
    "# Project Name : \"Crop Prediction According To Soil and Weather\"\n",
    "\n",
    "By : Renuka Gaikwad"
   ]
  },
  {
   "cell_type": "code",
   "execution_count": 43,
   "id": "d8786a69",
   "metadata": {},
   "outputs": [],
   "source": [
    "# Description :"
   ]
  },
  {
   "cell_type": "markdown",
   "id": "6db8b34b",
   "metadata": {},
   "source": [
    "In this project, an optimistic attempt has been made to support farmers; with the purpose to improve \n",
    "their farming productivity. Additionally, for doing so, a forecasting model has been developed by the \n",
    "use of machine learning; which can direct us, which crop will be best suitable for a specific climatic condition."
   ]
  },
  {
   "cell_type": "code",
   "execution_count": 44,
   "id": "4dbaa938",
   "metadata": {},
   "outputs": [],
   "source": [
    "#############################################################################################################################"
   ]
  },
  {
   "cell_type": "markdown",
   "id": "e2f81786",
   "metadata": {},
   "source": [
    "Meaning of This Terms\n",
    "•\tN = Nitrogen\n",
    "•\tP = Phosphorous\n",
    "•\tK = Potassium\n",
    "•\tPh = A scale used to identify acidity or basicity nature; (Acid Nature- Ph<7; Neutral- Ph=7; Base Nature-P>7)\n",
    "•\tlabel = Types of Crop (Rice,Maize, Chickpea; Kidney beans; pigeonpeas; mothbeans; mungbean;blackgram; lentil; pomegranate; \n",
    "                       banana; mango; grapes; watermelon; muskmelon; apple; orange;papaya; coconut; cotton; jute; coffee)\n"
   ]
  },
  {
   "cell_type": "code",
   "execution_count": 45,
   "id": "82a250d7",
   "metadata": {},
   "outputs": [],
   "source": [
    "# Import The Library"
   ]
  },
  {
   "cell_type": "code",
   "execution_count": 46,
   "id": "95aca9b9",
   "metadata": {},
   "outputs": [],
   "source": [
    "#for Data Manipulation\n",
    "import pandas as pd\n",
    "\n",
    "#for complex Mathematical Operations\n",
    "import numpy as np\n",
    "\n",
    "#for Creating Data Visulization\n",
    "import matplotlib.pyplot as plt\n",
    "import seaborn as sns\n",
    "\n",
    "#for interactive analysis & also helps in interacting with python\n",
    "from ipywidgets import interact"
   ]
  },
  {
   "cell_type": "code",
   "execution_count": 47,
   "id": "7abe25a7",
   "metadata": {},
   "outputs": [
    {
     "data": {
      "text/html": [
       "<div>\n",
       "<style scoped>\n",
       "    .dataframe tbody tr th:only-of-type {\n",
       "        vertical-align: middle;\n",
       "    }\n",
       "\n",
       "    .dataframe tbody tr th {\n",
       "        vertical-align: top;\n",
       "    }\n",
       "\n",
       "    .dataframe thead th {\n",
       "        text-align: right;\n",
       "    }\n",
       "</style>\n",
       "<table border=\"1\" class=\"dataframe\">\n",
       "  <thead>\n",
       "    <tr style=\"text-align: right;\">\n",
       "      <th></th>\n",
       "      <th>N</th>\n",
       "      <th>P</th>\n",
       "      <th>K</th>\n",
       "      <th>temperature</th>\n",
       "      <th>humidity</th>\n",
       "      <th>ph</th>\n",
       "      <th>rainfall</th>\n",
       "      <th>label</th>\n",
       "    </tr>\n",
       "  </thead>\n",
       "  <tbody>\n",
       "    <tr>\n",
       "      <th>0</th>\n",
       "      <td>90</td>\n",
       "      <td>42</td>\n",
       "      <td>43</td>\n",
       "      <td>20.879744</td>\n",
       "      <td>82.002744</td>\n",
       "      <td>6.502985</td>\n",
       "      <td>202.935536</td>\n",
       "      <td>rice</td>\n",
       "    </tr>\n",
       "    <tr>\n",
       "      <th>1</th>\n",
       "      <td>85</td>\n",
       "      <td>58</td>\n",
       "      <td>41</td>\n",
       "      <td>21.770462</td>\n",
       "      <td>80.319644</td>\n",
       "      <td>7.038096</td>\n",
       "      <td>226.655537</td>\n",
       "      <td>rice</td>\n",
       "    </tr>\n",
       "    <tr>\n",
       "      <th>2</th>\n",
       "      <td>60</td>\n",
       "      <td>55</td>\n",
       "      <td>44</td>\n",
       "      <td>23.004459</td>\n",
       "      <td>82.320763</td>\n",
       "      <td>7.840207</td>\n",
       "      <td>263.964248</td>\n",
       "      <td>rice</td>\n",
       "    </tr>\n",
       "    <tr>\n",
       "      <th>3</th>\n",
       "      <td>74</td>\n",
       "      <td>35</td>\n",
       "      <td>40</td>\n",
       "      <td>26.491096</td>\n",
       "      <td>80.158363</td>\n",
       "      <td>6.980401</td>\n",
       "      <td>242.864034</td>\n",
       "      <td>rice</td>\n",
       "    </tr>\n",
       "    <tr>\n",
       "      <th>4</th>\n",
       "      <td>78</td>\n",
       "      <td>42</td>\n",
       "      <td>42</td>\n",
       "      <td>20.130175</td>\n",
       "      <td>81.604873</td>\n",
       "      <td>7.628473</td>\n",
       "      <td>262.717340</td>\n",
       "      <td>rice</td>\n",
       "    </tr>\n",
       "  </tbody>\n",
       "</table>\n",
       "</div>"
      ],
      "text/plain": [
       "    N   P   K  temperature   humidity        ph    rainfall label\n",
       "0  90  42  43    20.879744  82.002744  6.502985  202.935536  rice\n",
       "1  85  58  41    21.770462  80.319644  7.038096  226.655537  rice\n",
       "2  60  55  44    23.004459  82.320763  7.840207  263.964248  rice\n",
       "3  74  35  40    26.491096  80.158363  6.980401  242.864034  rice\n",
       "4  78  42  42    20.130175  81.604873  7.628473  262.717340  rice"
      ]
     },
     "execution_count": 47,
     "metadata": {},
     "output_type": "execute_result"
    }
   ],
   "source": [
    "#Loading the Data Set\n",
    "df = pd.read_csv(r'C:\\Users\\renuk\\OneDrive\\Desktop\\code\\Agricultural_Production\\agriculture_data.csv', sep = ',')\n",
    "\n",
    "df.head()"
   ]
  },
  {
   "cell_type": "code",
   "execution_count": 48,
   "id": "02319006",
   "metadata": {},
   "outputs": [
    {
     "data": {
      "text/plain": [
       "(2200, 8)"
      ]
     },
     "execution_count": 48,
     "metadata": {},
     "output_type": "execute_result"
    }
   ],
   "source": [
    "##To Find the number of rows and columns of the data\n",
    "\n",
    "df.shape"
   ]
  },
  {
   "cell_type": "markdown",
   "id": "c043233c",
   "metadata": {},
   "source": [
    "here data contains 2200-rows and 8-columns"
   ]
  },
  {
   "cell_type": "code",
   "execution_count": 49,
   "id": "f6104066",
   "metadata": {},
   "outputs": [
    {
     "data": {
      "text/html": [
       "<div>\n",
       "<style scoped>\n",
       "    .dataframe tbody tr th:only-of-type {\n",
       "        vertical-align: middle;\n",
       "    }\n",
       "\n",
       "    .dataframe tbody tr th {\n",
       "        vertical-align: top;\n",
       "    }\n",
       "\n",
       "    .dataframe thead th {\n",
       "        text-align: right;\n",
       "    }\n",
       "</style>\n",
       "<table border=\"1\" class=\"dataframe\">\n",
       "  <thead>\n",
       "    <tr style=\"text-align: right;\">\n",
       "      <th></th>\n",
       "      <th>N</th>\n",
       "      <th>P</th>\n",
       "      <th>K</th>\n",
       "      <th>temperature</th>\n",
       "      <th>humidity</th>\n",
       "      <th>ph</th>\n",
       "      <th>rainfall</th>\n",
       "      <th>label</th>\n",
       "    </tr>\n",
       "  </thead>\n",
       "  <tbody>\n",
       "    <tr>\n",
       "      <th>0</th>\n",
       "      <td>90</td>\n",
       "      <td>42</td>\n",
       "      <td>43</td>\n",
       "      <td>20.879744</td>\n",
       "      <td>82.002744</td>\n",
       "      <td>6.502985</td>\n",
       "      <td>202.935536</td>\n",
       "      <td>rice</td>\n",
       "    </tr>\n",
       "    <tr>\n",
       "      <th>1</th>\n",
       "      <td>85</td>\n",
       "      <td>58</td>\n",
       "      <td>41</td>\n",
       "      <td>21.770462</td>\n",
       "      <td>80.319644</td>\n",
       "      <td>7.038096</td>\n",
       "      <td>226.655537</td>\n",
       "      <td>rice</td>\n",
       "    </tr>\n",
       "    <tr>\n",
       "      <th>2</th>\n",
       "      <td>60</td>\n",
       "      <td>55</td>\n",
       "      <td>44</td>\n",
       "      <td>23.004459</td>\n",
       "      <td>82.320763</td>\n",
       "      <td>7.840207</td>\n",
       "      <td>263.964248</td>\n",
       "      <td>rice</td>\n",
       "    </tr>\n",
       "    <tr>\n",
       "      <th>3</th>\n",
       "      <td>74</td>\n",
       "      <td>35</td>\n",
       "      <td>40</td>\n",
       "      <td>26.491096</td>\n",
       "      <td>80.158363</td>\n",
       "      <td>6.980401</td>\n",
       "      <td>242.864034</td>\n",
       "      <td>rice</td>\n",
       "    </tr>\n",
       "    <tr>\n",
       "      <th>4</th>\n",
       "      <td>78</td>\n",
       "      <td>42</td>\n",
       "      <td>42</td>\n",
       "      <td>20.130175</td>\n",
       "      <td>81.604873</td>\n",
       "      <td>7.628473</td>\n",
       "      <td>262.717340</td>\n",
       "      <td>rice</td>\n",
       "    </tr>\n",
       "    <tr>\n",
       "      <th>5</th>\n",
       "      <td>69</td>\n",
       "      <td>37</td>\n",
       "      <td>42</td>\n",
       "      <td>23.058049</td>\n",
       "      <td>83.370118</td>\n",
       "      <td>7.073454</td>\n",
       "      <td>251.055000</td>\n",
       "      <td>rice</td>\n",
       "    </tr>\n",
       "    <tr>\n",
       "      <th>6</th>\n",
       "      <td>69</td>\n",
       "      <td>55</td>\n",
       "      <td>38</td>\n",
       "      <td>22.708838</td>\n",
       "      <td>82.639414</td>\n",
       "      <td>5.700806</td>\n",
       "      <td>271.324860</td>\n",
       "      <td>rice</td>\n",
       "    </tr>\n",
       "    <tr>\n",
       "      <th>7</th>\n",
       "      <td>94</td>\n",
       "      <td>53</td>\n",
       "      <td>40</td>\n",
       "      <td>20.277744</td>\n",
       "      <td>82.894086</td>\n",
       "      <td>5.718627</td>\n",
       "      <td>241.974195</td>\n",
       "      <td>rice</td>\n",
       "    </tr>\n",
       "    <tr>\n",
       "      <th>8</th>\n",
       "      <td>89</td>\n",
       "      <td>54</td>\n",
       "      <td>38</td>\n",
       "      <td>24.515881</td>\n",
       "      <td>83.535216</td>\n",
       "      <td>6.685346</td>\n",
       "      <td>230.446236</td>\n",
       "      <td>rice</td>\n",
       "    </tr>\n",
       "    <tr>\n",
       "      <th>9</th>\n",
       "      <td>68</td>\n",
       "      <td>58</td>\n",
       "      <td>38</td>\n",
       "      <td>23.223974</td>\n",
       "      <td>83.033227</td>\n",
       "      <td>6.336254</td>\n",
       "      <td>221.209196</td>\n",
       "      <td>rice</td>\n",
       "    </tr>\n",
       "  </tbody>\n",
       "</table>\n",
       "</div>"
      ],
      "text/plain": [
       "    N   P   K  temperature   humidity        ph    rainfall label\n",
       "0  90  42  43    20.879744  82.002744  6.502985  202.935536  rice\n",
       "1  85  58  41    21.770462  80.319644  7.038096  226.655537  rice\n",
       "2  60  55  44    23.004459  82.320763  7.840207  263.964248  rice\n",
       "3  74  35  40    26.491096  80.158363  6.980401  242.864034  rice\n",
       "4  78  42  42    20.130175  81.604873  7.628473  262.717340  rice\n",
       "5  69  37  42    23.058049  83.370118  7.073454  251.055000  rice\n",
       "6  69  55  38    22.708838  82.639414  5.700806  271.324860  rice\n",
       "7  94  53  40    20.277744  82.894086  5.718627  241.974195  rice\n",
       "8  89  54  38    24.515881  83.535216  6.685346  230.446236  rice\n",
       "9  68  58  38    23.223974  83.033227  6.336254  221.209196  rice"
      ]
     },
     "execution_count": 49,
     "metadata": {},
     "output_type": "execute_result"
    }
   ],
   "source": [
    "##Checking the first 10 row of the data set\n",
    "\n",
    "df.head(10)"
   ]
  },
  {
   "cell_type": "code",
   "execution_count": 50,
   "id": "44496a0a",
   "metadata": {},
   "outputs": [
    {
     "name": "stdout",
     "output_type": "stream",
     "text": [
      "<class 'pandas.core.frame.DataFrame'>\n",
      "RangeIndex: 2200 entries, 0 to 2199\n",
      "Data columns (total 8 columns):\n",
      " #   Column       Non-Null Count  Dtype  \n",
      "---  ------       --------------  -----  \n",
      " 0   N            2200 non-null   int64  \n",
      " 1   P            2200 non-null   int64  \n",
      " 2   K            2200 non-null   int64  \n",
      " 3   temperature  2200 non-null   float64\n",
      " 4   humidity     2200 non-null   float64\n",
      " 5   ph           2200 non-null   float64\n",
      " 6   rainfall     2200 non-null   float64\n",
      " 7   label        2200 non-null   object \n",
      "dtypes: float64(4), int64(3), object(1)\n",
      "memory usage: 137.6+ KB\n"
     ]
    }
   ],
   "source": [
    "## Column name and their data type\n",
    "df.info()\n",
    "\n",
    "#df.dtypes \n"
   ]
  },
  {
   "cell_type": "code",
   "execution_count": 51,
   "id": "30e7d829",
   "metadata": {},
   "outputs": [
    {
     "data": {
      "text/html": [
       "<div>\n",
       "<style scoped>\n",
       "    .dataframe tbody tr th:only-of-type {\n",
       "        vertical-align: middle;\n",
       "    }\n",
       "\n",
       "    .dataframe tbody tr th {\n",
       "        vertical-align: top;\n",
       "    }\n",
       "\n",
       "    .dataframe thead th {\n",
       "        text-align: right;\n",
       "    }\n",
       "</style>\n",
       "<table border=\"1\" class=\"dataframe\">\n",
       "  <thead>\n",
       "    <tr style=\"text-align: right;\">\n",
       "      <th></th>\n",
       "      <th>N</th>\n",
       "      <th>P</th>\n",
       "      <th>K</th>\n",
       "      <th>temperature</th>\n",
       "      <th>humidity</th>\n",
       "      <th>ph</th>\n",
       "      <th>rainfall</th>\n",
       "    </tr>\n",
       "  </thead>\n",
       "  <tbody>\n",
       "    <tr>\n",
       "      <th>count</th>\n",
       "      <td>2200.000000</td>\n",
       "      <td>2200.000000</td>\n",
       "      <td>2200.000000</td>\n",
       "      <td>2200.000000</td>\n",
       "      <td>2200.000000</td>\n",
       "      <td>2200.000000</td>\n",
       "      <td>2200.000000</td>\n",
       "    </tr>\n",
       "    <tr>\n",
       "      <th>mean</th>\n",
       "      <td>50.551818</td>\n",
       "      <td>53.362727</td>\n",
       "      <td>48.149091</td>\n",
       "      <td>25.616244</td>\n",
       "      <td>71.481779</td>\n",
       "      <td>6.469480</td>\n",
       "      <td>103.463655</td>\n",
       "    </tr>\n",
       "    <tr>\n",
       "      <th>std</th>\n",
       "      <td>36.917334</td>\n",
       "      <td>32.985883</td>\n",
       "      <td>50.647931</td>\n",
       "      <td>5.063749</td>\n",
       "      <td>22.263812</td>\n",
       "      <td>0.773938</td>\n",
       "      <td>54.958389</td>\n",
       "    </tr>\n",
       "    <tr>\n",
       "      <th>min</th>\n",
       "      <td>0.000000</td>\n",
       "      <td>5.000000</td>\n",
       "      <td>5.000000</td>\n",
       "      <td>8.825675</td>\n",
       "      <td>14.258040</td>\n",
       "      <td>3.504752</td>\n",
       "      <td>20.211267</td>\n",
       "    </tr>\n",
       "    <tr>\n",
       "      <th>25%</th>\n",
       "      <td>21.000000</td>\n",
       "      <td>28.000000</td>\n",
       "      <td>20.000000</td>\n",
       "      <td>22.769375</td>\n",
       "      <td>60.261953</td>\n",
       "      <td>5.971693</td>\n",
       "      <td>64.551686</td>\n",
       "    </tr>\n",
       "    <tr>\n",
       "      <th>50%</th>\n",
       "      <td>37.000000</td>\n",
       "      <td>51.000000</td>\n",
       "      <td>32.000000</td>\n",
       "      <td>25.598693</td>\n",
       "      <td>80.473146</td>\n",
       "      <td>6.425045</td>\n",
       "      <td>94.867624</td>\n",
       "    </tr>\n",
       "    <tr>\n",
       "      <th>75%</th>\n",
       "      <td>84.250000</td>\n",
       "      <td>68.000000</td>\n",
       "      <td>49.000000</td>\n",
       "      <td>28.561654</td>\n",
       "      <td>89.948771</td>\n",
       "      <td>6.923643</td>\n",
       "      <td>124.267508</td>\n",
       "    </tr>\n",
       "    <tr>\n",
       "      <th>max</th>\n",
       "      <td>140.000000</td>\n",
       "      <td>145.000000</td>\n",
       "      <td>205.000000</td>\n",
       "      <td>43.675493</td>\n",
       "      <td>99.981876</td>\n",
       "      <td>9.935091</td>\n",
       "      <td>298.560117</td>\n",
       "    </tr>\n",
       "  </tbody>\n",
       "</table>\n",
       "</div>"
      ],
      "text/plain": [
       "                 N            P            K  temperature     humidity  \\\n",
       "count  2200.000000  2200.000000  2200.000000  2200.000000  2200.000000   \n",
       "mean     50.551818    53.362727    48.149091    25.616244    71.481779   \n",
       "std      36.917334    32.985883    50.647931     5.063749    22.263812   \n",
       "min       0.000000     5.000000     5.000000     8.825675    14.258040   \n",
       "25%      21.000000    28.000000    20.000000    22.769375    60.261953   \n",
       "50%      37.000000    51.000000    32.000000    25.598693    80.473146   \n",
       "75%      84.250000    68.000000    49.000000    28.561654    89.948771   \n",
       "max     140.000000   145.000000   205.000000    43.675493    99.981876   \n",
       "\n",
       "                ph     rainfall  \n",
       "count  2200.000000  2200.000000  \n",
       "mean      6.469480   103.463655  \n",
       "std       0.773938    54.958389  \n",
       "min       3.504752    20.211267  \n",
       "25%       5.971693    64.551686  \n",
       "50%       6.425045    94.867624  \n",
       "75%       6.923643   124.267508  \n",
       "max       9.935091   298.560117  "
      ]
     },
     "execution_count": 51,
     "metadata": {},
     "output_type": "execute_result"
    }
   ],
   "source": [
    "## Statistical detail of data\n",
    "\n",
    "df.describe()"
   ]
  },
  {
   "cell_type": "code",
   "execution_count": 52,
   "id": "fb8e1179",
   "metadata": {},
   "outputs": [
    {
     "data": {
      "text/plain": [
       "N              0\n",
       "P              0\n",
       "K              0\n",
       "temperature    0\n",
       "humidity       0\n",
       "ph             0\n",
       "rainfall       0\n",
       "label          0\n",
       "dtype: int64"
      ]
     },
     "execution_count": 52,
     "metadata": {},
     "output_type": "execute_result"
    }
   ],
   "source": [
    "## Cheching the null or any missing value in every column of data\n",
    "\n",
    "df.isnull().sum()"
   ]
  },
  {
   "cell_type": "code",
   "execution_count": 53,
   "id": "21f98478",
   "metadata": {},
   "outputs": [
    {
     "data": {
      "text/plain": [
       "rice           100\n",
       "maize          100\n",
       "jute           100\n",
       "cotton         100\n",
       "coconut        100\n",
       "papaya         100\n",
       "orange         100\n",
       "apple          100\n",
       "muskmelon      100\n",
       "watermelon     100\n",
       "grapes         100\n",
       "mango          100\n",
       "banana         100\n",
       "pomegranate    100\n",
       "lentil         100\n",
       "blackgram      100\n",
       "mungbean       100\n",
       "mothbeans      100\n",
       "pigeonpeas     100\n",
       "kidneybeans    100\n",
       "chickpea       100\n",
       "coffee         100\n",
       "Name: label, dtype: int64"
      ]
     },
     "execution_count": 53,
     "metadata": {},
     "output_type": "execute_result"
    }
   ],
   "source": [
    "## Now we check what are he unique values in label of column\n",
    "\n",
    "df['label'].value_counts()"
   ]
  },
  {
   "cell_type": "code",
   "execution_count": 54,
   "id": "913acca5",
   "metadata": {},
   "outputs": [
    {
     "data": {
      "text/plain": [
       "array(['rice', 'maize', 'chickpea', 'kidneybeans', 'pigeonpeas',\n",
       "       'mothbeans', 'mungbean', 'blackgram', 'lentil', 'pomegranate',\n",
       "       'banana', 'mango', 'grapes', 'watermelon', 'muskmelon', 'apple',\n",
       "       'orange', 'papaya', 'coconut', 'cotton', 'jute', 'coffee'],\n",
       "      dtype=object)"
      ]
     },
     "execution_count": 54,
     "metadata": {},
     "output_type": "execute_result"
    }
   ],
   "source": [
    "df.label.unique()"
   ]
  },
  {
   "cell_type": "code",
   "execution_count": 55,
   "id": "42759315",
   "metadata": {},
   "outputs": [
    {
     "name": "stdout",
     "output_type": "stream",
     "text": [
      "Average Ratio of Nitrogen in the soil : 50.55\n",
      "Average Ratio of Phosphorous in the soil : 53.36\n",
      "Average Ratio of Potassium in the soil : 48.15\n",
      "Average Ratio of Temperature in celsius : 25.62\n",
      "Average Ratio of Humidity in % : 71.48\n",
      "Average Ratio of ph in the soil : 6.47\n",
      "Average Ratio of Rainfall in mm : 103.46\n"
     ]
    }
   ],
   "source": [
    "##Suitable average climatic conditions needed by soil for crop production\n",
    "print(\"Average Ratio of Nitrogen in the soil : {0:.2f}\".format(df['N'].mean()))\n",
    "print(\"Average Ratio of Phosphorous in the soil : {0:.2f}\".format(df['P'].mean()))\n",
    "print(\"Average Ratio of Potassium in the soil : {0:.2f}\".format(df['K'].mean()))\n",
    "print(\"Average Ratio of Temperature in celsius : {0:.2f}\".format(df['temperature'].mean()))\n",
    "print(\"Average Ratio of Humidity in % : {0:.2f}\".format(df['humidity'].mean()))\n",
    "print(\"Average Ratio of ph in the soil : {0:.2f}\".format(df['ph'].mean()))\n",
    "print(\"Average Ratio of Rainfall in mm : {0:.2f}\".format(df['rainfall'].mean()))\n",
    "\n"
   ]
  },
  {
   "cell_type": "code",
   "execution_count": 56,
   "id": "84c4fc7f",
   "metadata": {},
   "outputs": [
    {
     "data": {
      "image/png": "[encoded data removed]",
      "text/plain": [
       "<Figure size 1800x720 with 1 Axes>"
      ]
     },
     "metadata": {
      "needs_background": "light"
     },
     "output_type": "display_data"
    }
   ],
   "source": [
    "## Plot the Rainfall requirements Vs Crops\n",
    "\n",
    "plt.figure(figsize=(25,10))\n",
    "plt.bar(df['label'],(df['rainfall']),color=['Blue'])\n",
    "plt.xlabel('Crops')\n",
    "plt.title('Rainfall requirement Vs Crops')\n",
    "plt.ylabel('Rainfall')\n",
    "plt.show()"
   ]
  },
  {
   "cell_type": "code",
   "execution_count": 57,
   "id": "21fbed0a",
   "metadata": {},
   "outputs": [
    {
     "data": {
      "image/png": "[encoded data removed]",
      "text/plain": [
       "<Figure size 1800x720 with 1 Axes>"
      ]
     },
     "metadata": {
      "needs_background": "light"
     },
     "output_type": "display_data"
    }
   ],
   "source": [
    "## Plot the Humidity requirement Vs Crops\n",
    "plt.figure(figsize=(25,10))\n",
    "plt.bar(df['label'],(df['humidity']), color=['Orange'])\n",
    "plt.xlabel('Crop')\n",
    "plt.ylabel('Humidity')\n",
    "plt.title(\"Humidity requirement Vs Crops\")\n",
    "plt.show()\n"
   ]
  },
  {
   "cell_type": "code",
   "execution_count": 58,
   "id": "c9493745",
   "metadata": {},
   "outputs": [
    {
     "data": {
      "image/png": "[encoded data removed]",
      "text/plain": [
       "<Figure size 1800x720 with 1 Axes>"
      ]
     },
     "metadata": {
      "needs_background": "light"
     },
     "output_type": "display_data"
    }
   ],
   "source": [
    "## Plot the Temperature requirement Vs Crops\n",
    "\n",
    "plt.figure(figsize=(25,10))\n",
    "plt.bar(df['label'],(df['temperature']), color=['Lightblue'])\n",
    "plt.xlabel('Crop')\n",
    "plt.ylabel('temperature')\n",
    "plt.title(\"Temperature requirement Vs Crops\")\n",
    "plt.show()\n"
   ]
  },
  {
   "cell_type": "code",
   "execution_count": 59,
   "id": "d2b6b07f",
   "metadata": {},
   "outputs": [
    {
     "data": {
      "image/png": "[encoded data removed]",
      "text/plain": [
       "<Figure size 1800x720 with 1 Axes>"
      ]
     },
     "metadata": {
      "needs_background": "light"
     },
     "output_type": "display_data"
    }
   ],
   "source": [
    "## Plot the Ph_Value Requirement VS Crops\n",
    "\n",
    "plt.figure(figsize=(25,10))\n",
    "plt.bar(df['label'],(df['ph']), color=['Green'])\n",
    "plt.xlabel('Crop')\n",
    "plt.ylabel('Ph_Value')\n",
    "plt.title(\"Ph_Value requirement Vs Crops\")\n",
    "plt.show()\n"
   ]
  },
  {
   "cell_type": "code",
   "execution_count": 63,
   "id": "84f45456",
   "metadata": {},
   "outputs": [
    {
     "data": {
      "application/vnd.jupyter.widget-view+json": {
       "model_id": "746a66c583484237819db2d8956a8f52",
       "version_major": 2,
       "version_minor": 0
      },
      "text/plain": [
       "interactive(children=(Dropdown(description='crops', options=('rice', 'maize', 'jute', 'cotton', 'coconut', 'pa…"
      ]
     },
     "metadata": {},
     "output_type": "display_data"
    }
   ],
   "source": [
    "## Use of Interactive function from ipywidget library to find the best optimum climatic condition for any specific crop\n",
    "\n",
    "@interact\n",
    "def summary(crops = list(df.label.value_counts().index)):\n",
    "  x= df[df.label == crops]\n",
    "  print(\"___________________________________________________\")\n",
    "    \n",
    "  print(\"Statistic of Nitrogen :\")\n",
    "  print(\"Minimum Nitrogen required :\",x['N'].min())\n",
    "  print(\"Average Nitrogen required :\",x['N'].mean())\n",
    "  print(\"Mximum Nitrogen required :\",x['N'].max())\n",
    "    \n",
    "  print(\"___________________________________________________\")\n",
    "\n",
    "  print(\"Statistic of Phosphorous :\")\n",
    "  print(\"Minimum Phosphorous required :\",x['P'].min())\n",
    "  print(\"Average Phosphorous required :\",x['P'].mean())\n",
    "  print(\"Mximum Phosphorous required :\",x['P'].max())\n",
    "\n",
    "  print(\"___________________________________________________\")\n",
    "    \n",
    "  print(\"Statistic of Potassium :\")\n",
    "  print(\"Minimum Potassium required :\",x['K'].min())\n",
    "  print(\"Average Potassium required :\",x['K'].mean())\n",
    "  print(\"Mximum Potassium required :\",x['K'].max())\n",
    "    \n",
    "  print(\"___________________________________________________\")\n",
    "\n",
    "  print(\"Statistic of Temperature :\")\n",
    "  print(\"Minimum Temperature required :\",x['temperature'].min())\n",
    "  print(\"Average Temperature required :\",x['temperature'].mean())\n",
    "  print(\"Mximum Temperature required :\",x['temperature'].max())\n",
    "\n",
    "  print(\"___________________________________________________\")\n",
    "    \n",
    "  print(\"Statistic of Humidity :\")\n",
    "  print(\"Minimum Humidity required :\",x['humidity'].min())\n",
    "  print(\"Average Humidity required :\",x['humidity'].mean())\n",
    "  print(\"Mximum Humidity required :\",x['humidity'].max())\n",
    "    \n",
    "  print(\"___________________________________________________\")\n",
    "\n",
    "  print(\"Statistic of ph :\")\n",
    "  print(\"Minimum ph required :\",x['ph'].min())\n",
    "  print(\"Average ph required :\",x['ph'].mean())\n",
    "  print(\"Mximum ph required :\",x['ph'].max())\n",
    "\n",
    "  print(\"___________________________________________________\")\n",
    "    \n",
    "  print(\"Statistic of Rainfall :\")\n",
    "  print(\"Minimum Rainfall required :\",x['rainfall'].min())\n",
    "  print(\"Average Rainfall required :\",x['rainfall'].mean())\n",
    "  print(\"Mximum Rainfall required :\",x['rainfall'].max())\n",
    "    \n",
    "  print(\"___________________________________________________\")"
   ]
  },
  {
   "cell_type": "code",
   "execution_count": 64,
   "id": "44d2d327",
   "metadata": {},
   "outputs": [
    {
     "data": {
      "application/vnd.jupyter.widget-view+json": {
       "model_id": "a34ff5e827f44720a60807160bd0bef1",
       "version_major": 2,
       "version_minor": 0
      },
      "text/plain": [
       "interactive(children=(Dropdown(description='conditions', options=('N', 'P', 'K', 'temperature', 'humidity', 'p…"
      ]
     },
     "metadata": {},
     "output_type": "display_data"
    }
   ],
   "source": [
    "## Comparing the requirement of soil minerals and weather conditins of differnt crops\n",
    "\n",
    "\n",
    "@interact \n",
    "def compare(conditions = ['N', 'P', 'K', 'temperature', 'humidity', 'ph', 'rainfall']):\n",
    "  print(\"Average value for \",conditions, \"is {0:.2f}\".format(df[conditions].mean()))\n",
    "  print(\"_____________________________________________________________________________\")\n",
    "  print(\"Rice : {0:.2f}\".format(df[(df['label'] == 'rice')][conditions].mean()))\n",
    "  print(\"maize : {0:.2f}\".format(df[(df['label'] == 'maize')][conditions].mean()))\n",
    "  print(\"chickpea : {0:.2f}\".format(df[(df['label'] == 'chickpea')][conditions].mean()))\n",
    "  print(\"kidneybeans : {0:.2f}\".format(df[(df['label'] == 'kidneybeans')][conditions].mean()))\n",
    "  print(\"pigeonpeas : {0:.2f}\".format(df[(df['label'] == 'pigeonpeas')][conditions].mean()))\n",
    "  print(\"mothbeans : {0:.2f}\".format(df[(df['label'] == 'mothbeans')][conditions].mean()))\n",
    "  print(\"mungbean : {0:.2f}\".format(df[(df['label'] == 'mungbean')][conditions].mean()))\n",
    "  print(\"blackgram : {0:.2f}\".format(df[(df['label'] == 'blackgram')][conditions].mean()))\n",
    "  print(\"lentil : {0:.2f}\".format(df[(df['label'] == 'lentil')][conditions].mean()))\n",
    "  print(\"pomegranate : {0:.2f}\".format(df[(df['label'] == 'pomegranate')][conditions].mean()))\n",
    "  print(\"banana : {0:.2f}\".format(df[(df['label'] == 'banana')][conditions].mean()))\n",
    "  print(\"mango : {0:.2f}\".format(df[(df['label'] == 'mango')][conditions].mean()))\n",
    "  print(\"grapes : {0:.2f}\".format(df[(df['label'] == 'grapes')][conditions].mean()))\n",
    "  print(\"watermelon : {0:.2f}\".format(df[(df['label'] == 'watermelon')][conditions].mean()))\n",
    "  print(\"muskmelon : {0:.2f}\".format(df[(df['label'] == 'muskmelon')][conditions].mean()))\n",
    "  print(\"apple : {0:.2f}\".format(df[(df['label'] == 'apple')][conditions].mean()))\n",
    "  print(\"orange : {0:.2f}\".format(df[(df['label'] == 'orange')][conditions].mean()))\n",
    "  print(\"papaya : {0:.2f}\".format(df[(df['label'] == 'papaya')][conditions].mean()))\n",
    "  print(\"coconut : {0:.2f}\".format(df[(df['label'] == 'coconut')][conditions].mean()))\n",
    "  print(\"cotton : {0:.2f}\".format(df[(df['label'] == 'cotton')][conditions].mean()))\n",
    "  print(\"jute : {0:.2f}\".format(df[(df['label'] == 'jute')][conditions].mean()))\n",
    "  print(\"coffee : {0:.2f}\".format(df[(df['label'] == 'coffee')][conditions].mean()))"
   ]
  },
  {
   "cell_type": "code",
   "execution_count": 65,
   "id": "498a132d",
   "metadata": {},
   "outputs": [
    {
     "data": {
      "application/vnd.jupyter.widget-view+json": {
       "model_id": "1b52fab80bdf43b2af3bd78100ab0723",
       "version_major": 2,
       "version_minor": 0
      },
      "text/plain": [
       "interactive(children=(Dropdown(description='conditions', options=('N', 'P', 'K', 'temperature', 'humidity', 'p…"
      ]
     },
     "metadata": {},
     "output_type": "display_data"
    }
   ],
   "source": [
    "## Identifying the crops which requires unusual or special weather and soil minerals\n",
    "\n",
    "\n",
    "@interact\n",
    "def compare(conditions = ['N', 'P', 'K', 'temperature', 'humidity', 'ph', 'rainfall']):\n",
    "  print(\"Crops which require greater than average\", conditions,'\\n')\n",
    "  print(df[df[conditions] > df[conditions].mean()]['label'].unique())\n",
    "    \n",
    "  print('________________________________________________________________________________')\n",
    "\n",
    "  print(\"Crops which require less than average\", conditions,'\\n')\n",
    "  print(df[df[conditions] <= df[conditions].mean()]['label'].unique())"
   ]
  },
  {
   "cell_type": "code",
   "execution_count": 66,
   "id": "aa3f3222",
   "metadata": {},
   "outputs": [
    {
     "name": "stderr",
     "output_type": "stream",
     "text": [
      "C:\\Users\\renuk\\anaconda3\\lib\\site-packages\\seaborn\\distributions.py:2619: FutureWarning: `distplot` is a deprecated function and will be removed in a future version. Please adapt your code to use either `displot` (a figure-level function with similar flexibility) or `histplot` (an axes-level function for histograms).\n",
      "  warnings.warn(msg, FutureWarning)\n",
      "C:\\Users\\renuk\\anaconda3\\lib\\site-packages\\seaborn\\distributions.py:2619: FutureWarning: `distplot` is a deprecated function and will be removed in a future version. Please adapt your code to use either `displot` (a figure-level function with similar flexibility) or `histplot` (an axes-level function for histograms).\n",
      "  warnings.warn(msg, FutureWarning)\n",
      "C:\\Users\\renuk\\anaconda3\\lib\\site-packages\\seaborn\\distributions.py:2619: FutureWarning: `distplot` is a deprecated function and will be removed in a future version. Please adapt your code to use either `displot` (a figure-level function with similar flexibility) or `histplot` (an axes-level function for histograms).\n",
      "  warnings.warn(msg, FutureWarning)\n",
      "C:\\Users\\renuk\\anaconda3\\lib\\site-packages\\seaborn\\distributions.py:2619: FutureWarning: `distplot` is a deprecated function and will be removed in a future version. Please adapt your code to use either `displot` (a figure-level function with similar flexibility) or `histplot` (an axes-level function for histograms).\n",
      "  warnings.warn(msg, FutureWarning)\n",
      "C:\\Users\\renuk\\anaconda3\\lib\\site-packages\\seaborn\\distributions.py:2619: FutureWarning: `distplot` is a deprecated function and will be removed in a future version. Please adapt your code to use either `displot` (a figure-level function with similar flexibility) or `histplot` (an axes-level function for histograms).\n",
      "  warnings.warn(msg, FutureWarning)\n",
      "C:\\Users\\renuk\\anaconda3\\lib\\site-packages\\seaborn\\distributions.py:2619: FutureWarning: `distplot` is a deprecated function and will be removed in a future version. Please adapt your code to use either `displot` (a figure-level function with similar flexibility) or `histplot` (an axes-level function for histograms).\n",
      "  warnings.warn(msg, FutureWarning)\n",
      "C:\\Users\\renuk\\anaconda3\\lib\\site-packages\\seaborn\\distributions.py:2619: FutureWarning: `distplot` is a deprecated function and will be removed in a future version. Please adapt your code to use either `displot` (a figure-level function with similar flexibility) or `histplot` (an axes-level function for histograms).\n",
      "  warnings.warn(msg, FutureWarning)\n",
      "C:\\Users\\renuk\\anaconda3\\lib\\site-packages\\seaborn\\distributions.py:2619: FutureWarning: `distplot` is a deprecated function and will be removed in a future version. Please adapt your code to use either `displot` (a figure-level function with similar flexibility) or `histplot` (an axes-level function for histograms).\n",
      "  warnings.warn(msg, FutureWarning)\n"
     ]
    },
    {
     "data": {
      "image/png": "[encoded data removed]",
      "text/plain": [
       "<Figure size 720x720 with 8 Axes>"
      ]
     },
     "metadata": {
      "needs_background": "light"
     },
     "output_type": "display_data"
    }
   ],
   "source": [
    "##Distribution plot of different climatic and weather conditions explaining the varriation in them\n",
    "\n",
    "from numpy.core.fromnumeric import size\n",
    "\n",
    "plt.subplot(2,4,1)\n",
    "sns.distplot(df['N'], color = 'pink')\n",
    "plt.xlabel('Nitrogen', fontsize=12)\n",
    "plt.grid()\n",
    "\n",
    "plt.subplot(2,4,2)\n",
    "sns.distplot(df['P'], color = 'blue')\n",
    "plt.xlabel('Phospharus', fontsize=12)\n",
    "plt.grid()\n",
    "\n",
    "plt.subplot(2,4,3)\n",
    "sns.distplot(df['K'], color = 'darkgreen')\n",
    "plt.xlabel('Potasium', fontsize=12)\n",
    "plt.grid()\n",
    "\n",
    "plt.subplot(2,4,4)\n",
    "sns.distplot(df['temperature'], color = 'red')\n",
    "plt.xlabel('Temperature', fontsize=12)\n",
    "plt.grid()\n",
    "\n",
    "plt.subplot(2,4,5)\n",
    "sns.distplot(df['humidity'], color = 'orange')\n",
    "plt.xlabel('Humidity', fontsize=12)\n",
    "plt.grid()\n",
    "\n",
    "plt.subplot(2,4,6)\n",
    "sns.distplot(df['temperature'], color = 'gray')\n",
    "plt.xlabel('Temperature', fontsize=12)\n",
    "plt.grid()\n",
    "\n",
    "plt.subplot(2,4,7)\n",
    "sns.distplot(df['ph'], color = 'darkgreen')\n",
    "plt.xlabel('PH', fontsize=12)\n",
    "plt.grid()\n",
    "\n",
    "plt.subplot(2,4,8)\n",
    "sns.distplot(df['rainfall'], color = 'lightgreen')\n",
    "plt.xlabel('Rainfall', fontsize=12)\n",
    "plt.grid()\n",
    "\n",
    "plt.suptitle(\"Distribution for agreculture condition\")\n",
    "\n",
    "plt.show()"
   ]
  },
  {
   "cell_type": "code",
   "execution_count": 67,
   "id": "482fc0b9",
   "metadata": {},
   "outputs": [
    {
     "name": "stdout",
     "output_type": "stream",
     "text": [
      "Some interasting pattern\n",
      "______________________________________________________________________________________\n",
      "Crops require high ratio of nitrogen contents in soil  ['cotton']\n",
      "Crops require high ratio of phospurus contents in soil  ['grapes' 'apple']\n",
      "Crops require high ratio of nitrogen potassium in soil  []\n",
      "Crops require high rain fall  ['rice' 'papaya' 'coconut']\n",
      "Crops require high temprature  ['grapes' 'papaya']\n",
      "Crops require high ph  ['mothbeans']\n"
     ]
    }
   ],
   "source": [
    "## which crops require special climatic conditins\n",
    "\n",
    "print(\"Some interasting pattern\")\n",
    "print(\"______________________________________________________________________________________\")\n",
    "print(\"Crops require high ratio of nitrogen contents in soil \", df[df['N']>120]['label'].unique())\n",
    "print(\"Crops require high ratio of phospurus contents in soil \", df[df['P']>100]['label'].unique())\n",
    "print(\"Crops require high ratio of nitrogen potassium in soil \", df[df['N']>200]['label'].unique())\n",
    "print(\"Crops require high rain fall \", df[df['rainfall']>200]['label'].unique())\n",
    "print(\"Crops require high temprature \", df[df['temperature']>40]['label'].unique())\n",
    "print(\"Crops require high ph \", df[df['ph']>9]['label'].unique())"
   ]
  },
  {
   "cell_type": "code",
   "execution_count": 68,
   "id": "1ccfa703",
   "metadata": {},
   "outputs": [
    {
     "name": "stdout",
     "output_type": "stream",
     "text": [
      "Summer crops\n",
      "['pigeonpeas' 'mothbeans' 'blackgram' 'mango' 'grapes' 'orange' 'papaya']\n",
      "_______________________________________\n",
      "Winter crops\n",
      "['maize' 'pigeonpeas' 'lentil' 'pomegranate' 'grapes' 'orange']\n",
      "_______________________________________\n",
      "Winter crops\n",
      "['rice' 'papaya' 'coconut']\n",
      "_______________________________________\n"
     ]
    }
   ],
   "source": [
    "## clasifiying the  crops as per their best productivity and sutability to the season\n",
    "\n",
    "print(\"Summer crops\")\n",
    "print(df[(df['temperature'] > 30) & (df['humidity'] > 50)]['label'].unique())\n",
    "print(\"_______________________________________\")\n",
    "\n",
    "print(\"Winter crops\")\n",
    "print(df[(df['temperature'] < 20) & (df['humidity'] > 30)]['label'].unique())\n",
    "print(\"_______________________________________\")\n",
    "\n",
    "print(\"Winter crops\")\n",
    "print(df[(df['rainfall'] > 200) & (df['humidity'] > 30)]['label'].unique())\n",
    "print(\"_______________________________________\")"
   ]
  },
  {
   "cell_type": "markdown",
   "id": "80ab53d0",
   "metadata": {},
   "source": [
    "##Now, its time to find the crops which need similar climatic conditions and mineral requirements and club them together into a group by the help of \"Clustering Analysis\"\n",
    "\n",
    "Clustering Analysis comes under unsupervised learning; means we train our model without labels"
   ]
  },
  {
   "cell_type": "code",
   "execution_count": 69,
   "id": "86cb6f1b",
   "metadata": {},
   "outputs": [
    {
     "name": "stdout",
     "output_type": "stream",
     "text": [
      "(2200, 7)\n"
     ]
    }
   ],
   "source": [
    "## here we using k- means clustaring \n",
    "\n",
    "from sklearn.cluster import KMeans\n",
    "\n",
    "#Removing label of colukn\n",
    "x= df.drop(['label'], axis=1)\n",
    "\n",
    "#Selecting all the values for the data\n",
    "X= x.values\n",
    "\n",
    "print(x.shape)"
   ]
  },
  {
   "cell_type": "code",
   "execution_count": 70,
   "id": "817a3d0a",
   "metadata": {},
   "outputs": [
    {
     "name": "stderr",
     "output_type": "stream",
     "text": [
      "C:\\Users\\renuk\\anaconda3\\lib\\site-packages\\sklearn\\cluster\\_kmeans.py:1332: UserWarning: KMeans is known to have a memory leak on Windows with MKL, when there are less chunks than available threads. You can avoid it by setting the environment variable OMP_NUM_THREADS=9.\n",
      "  warnings.warn(\n",
      "C:\\Users\\renuk\\anaconda3\\lib\\site-packages\\sklearn\\cluster\\_kmeans.py:1332: UserWarning: KMeans is known to have a memory leak on Windows with MKL, when there are less chunks than available threads. You can avoid it by setting the environment variable OMP_NUM_THREADS=9.\n",
      "  warnings.warn(\n",
      "C:\\Users\\renuk\\anaconda3\\lib\\site-packages\\sklearn\\cluster\\_kmeans.py:1332: UserWarning: KMeans is known to have a memory leak on Windows with MKL, when there are less chunks than available threads. You can avoid it by setting the environment variable OMP_NUM_THREADS=9.\n",
      "  warnings.warn(\n",
      "C:\\Users\\renuk\\anaconda3\\lib\\site-packages\\sklearn\\cluster\\_kmeans.py:1332: UserWarning: KMeans is known to have a memory leak on Windows with MKL, when there are less chunks than available threads. You can avoid it by setting the environment variable OMP_NUM_THREADS=9.\n",
      "  warnings.warn(\n",
      "C:\\Users\\renuk\\anaconda3\\lib\\site-packages\\sklearn\\cluster\\_kmeans.py:1332: UserWarning: KMeans is known to have a memory leak on Windows with MKL, when there are less chunks than available threads. You can avoid it by setting the environment variable OMP_NUM_THREADS=9.\n",
      "  warnings.warn(\n",
      "C:\\Users\\renuk\\anaconda3\\lib\\site-packages\\sklearn\\cluster\\_kmeans.py:1332: UserWarning: KMeans is known to have a memory leak on Windows with MKL, when there are less chunks than available threads. You can avoid it by setting the environment variable OMP_NUM_THREADS=9.\n",
      "  warnings.warn(\n",
      "C:\\Users\\renuk\\anaconda3\\lib\\site-packages\\sklearn\\cluster\\_kmeans.py:1332: UserWarning: KMeans is known to have a memory leak on Windows with MKL, when there are less chunks than available threads. You can avoid it by setting the environment variable OMP_NUM_THREADS=9.\n",
      "  warnings.warn(\n",
      "C:\\Users\\renuk\\anaconda3\\lib\\site-packages\\sklearn\\cluster\\_kmeans.py:1332: UserWarning: KMeans is known to have a memory leak on Windows with MKL, when there are less chunks than available threads. You can avoid it by setting the environment variable OMP_NUM_THREADS=9.\n",
      "  warnings.warn(\n",
      "C:\\Users\\renuk\\anaconda3\\lib\\site-packages\\sklearn\\cluster\\_kmeans.py:1332: UserWarning: KMeans is known to have a memory leak on Windows with MKL, when there are less chunks than available threads. You can avoid it by setting the environment variable OMP_NUM_THREADS=9.\n",
      "  warnings.warn(\n",
      "C:\\Users\\renuk\\anaconda3\\lib\\site-packages\\sklearn\\cluster\\_kmeans.py:1332: UserWarning: KMeans is known to have a memory leak on Windows with MKL, when there are less chunks than available threads. You can avoid it by setting the environment variable OMP_NUM_THREADS=9.\n",
      "  warnings.warn(\n"
     ]
    },
    {
     "data": {
      "image/png": "[encoded data removed]",
      "text/plain": [
       "<Figure size 720x288 with 1 Axes>"
      ]
     },
     "metadata": {
      "needs_background": "light"
     },
     "output_type": "display_data"
    }
   ],
   "source": [
    "##Using Elbow Algorithm to find the optimum number of Clusters required\n",
    "\n",
    "plt.rcParams['figure.figsize']=(10,4)\n",
    "\n",
    "wcss=[]\n",
    "\n",
    "for i in range(1, 11):\n",
    "  km = KMeans(n_clusters = i, init= 'k-means++', max_iter= 300, n_init = 10, random_state=0)\n",
    "  km.fit(x)\n",
    "  wcss.append(km.inertia_)\n",
    "\n",
    "#Result plotting\n",
    "plt.plot(range(1,11), wcss)\n",
    "plt.title('The Elbow Method', fontsize=20)\n",
    "plt.xlabel('No. of cluster')\n",
    "plt.ylabel('wcss')\n",
    "plt.show()"
   ]
  },
  {
   "cell_type": "code",
   "execution_count": 71,
   "id": "3455b3a7",
   "metadata": {},
   "outputs": [],
   "source": [
    "##There are two elbows first 3 & Second 4 always select the last Elbow: Hence our Cluster should be 4"
   ]
  },
  {
   "cell_type": "code",
   "execution_count": 72,
   "id": "3504d191",
   "metadata": {},
   "outputs": [
    {
     "name": "stderr",
     "output_type": "stream",
     "text": [
      "C:\\Users\\renuk\\anaconda3\\lib\\site-packages\\sklearn\\cluster\\_kmeans.py:1332: UserWarning: KMeans is known to have a memory leak on Windows with MKL, when there are less chunks than available threads. You can avoid it by setting the environment variable OMP_NUM_THREADS=9.\n",
      "  warnings.warn(\n"
     ]
    },
    {
     "name": "stdout",
     "output_type": "stream",
     "text": [
      "Lets check the result after applying  the K Means clustering analysis\n",
      "Crops in first cluster: ['maize' 'chickpea' 'kidneybeans' 'pigeonpeas' 'mothbeans' 'mungbean'\n",
      " 'blackgram' 'lentil' 'pomegranate' 'mango' 'orange' 'papaya' 'coconut']\n",
      "___________________________________________________________________\n",
      "Crops in first cluster: ['maize' 'banana' 'watermelon' 'muskmelon' 'papaya' 'cotton' 'coffee']\n",
      "___________________________________________________________________\n",
      "Crops in first cluster: ['grapes' 'apple']\n",
      "___________________________________________________________________\n",
      "Crops in first cluster: ['rice' 'pigeonpeas' 'papaya' 'coconut' 'jute' 'coffee']\n",
      "___________________________________________________________________\n"
     ]
    }
   ],
   "source": [
    "## Lets implement k means algorithm to perform Clustering analysis\n",
    "km = KMeans(n_clusters=4, init='k-means++', max_iter= 300, n_init= 10, random_state = 0)\n",
    "y_means= km.fit_predict(x)\n",
    "\n",
    "# Result\n",
    "a= df['label']\n",
    "y_means= pd.DataFrame(y_means)\n",
    "z = pd.concat([y_means, a], axis=1)\n",
    "z = z.rename(columns = {0: 'cluster'})\n",
    "\n",
    "#Check cluster of each crop\n",
    "print(\"Lets check the result after applying  the K Means clustering analysis\")\n",
    "print(\"Crops in first cluster:\", z[z['cluster']==0]['label'].unique())\n",
    "print(\"___________________________________________________________________\")\n",
    "print(\"Crops in first cluster:\", z[z['cluster']==1]['label'].unique())\n",
    "print(\"___________________________________________________________________\")\n",
    "print(\"Crops in first cluster:\", z[z['cluster']==2]['label'].unique())\n",
    "print(\"___________________________________________________________________\")\n",
    "print(\"Crops in first cluster:\", z[z['cluster']==3]['label'].unique())\n",
    "print(\"___________________________________________________________________\")"
   ]
  },
  {
   "cell_type": "code",
   "execution_count": 73,
   "id": "ff5d17be",
   "metadata": {},
   "outputs": [],
   "source": [
    "## We need to train our model without labels because if our model train both label, it may cheat and our accuracy declines\n",
    "#So we drop labels from dataset\n",
    "\n",
    "y=df['label']\n",
    "x= df.drop(['label'], axis=1)\n"
   ]
  },
  {
   "cell_type": "code",
   "execution_count": 74,
   "id": "6c0c5f66",
   "metadata": {},
   "outputs": [
    {
     "name": "stderr",
     "output_type": "stream",
     "text": [
      "C:\\Users\\renuk\\anaconda3\\lib\\site-packages\\sklearn\\linear_model\\_logistic.py:444: ConvergenceWarning: lbfgs failed to converge (status=1):\n",
      "STOP: TOTAL NO. of ITERATIONS REACHED LIMIT.\n",
      "\n",
      "Increase the number of iterations (max_iter) or scale the data as shown in:\n",
      "    https://scikit-learn.org/stable/modules/preprocessing.html\n",
      "Please also refer to the documentation for alternative solver options:\n",
      "    https://scikit-learn.org/stable/modules/linear_model.html#logistic-regression\n",
      "  n_iter_i = _check_optimize_result(\n"
     ]
    }
   ],
   "source": [
    "## Now its time to divide the data into two sets; train_data & test_data\n",
    "\n",
    "##Lets create Training and Testing Sets for validation of Results\n",
    "\n",
    "from sklearn.model_selection import train_test_split \n",
    "\n",
    "x_train, x_test, y_train, y_test = train_test_split(x, y, test_size= 0.2, random_state=0)# 80% Data will be alotted into trainins set & remaining 20% will be sent into testing set\n",
    "\n",
    "from sklearn.linear_model import LogisticRegression\n",
    "model = LogisticRegression()\n",
    "model.fit(x_train, y_train)\n",
    "y_pred = model.predict(x_test)"
   ]
  },
  {
   "cell_type": "code",
   "execution_count": 75,
   "id": "cec35c1f",
   "metadata": {},
   "outputs": [
    {
     "data": {
      "image/png": "[encoded data removed]",
      "text/plain": [
       "<Figure size 720x720 with 2 Axes>"
      ]
     },
     "metadata": {
      "needs_background": "light"
     },
     "output_type": "display_data"
    }
   ],
   "source": [
    "##Evaluate model performance\n",
    "## We know the answer of the x_test data set have been stored into y_test, so to check the accuracy of the model, wew need to compare y_pred with y_test data, and to compare y_test with y_pred we use classification report\n",
    "\n",
    "from sklearn.metrics import confusion_matrix\n",
    "\n",
    "#Print confusion matrix first\n",
    "plt.rcParams['figure.figsize'] = (10,10)\n",
    "cm = confusion_matrix(y_test, y_pred)\n",
    "sns.heatmap(cm, annot= True, cmap= 'Wistia')\n",
    "plt.title(\"Confusion matrix for Logical regression\", fontsize = 16)\n",
    "plt.show()"
   ]
  },
  {
   "cell_type": "code",
   "execution_count": 76,
   "id": "459a6b01",
   "metadata": {},
   "outputs": [
    {
     "name": "stdout",
     "output_type": "stream",
     "text": [
      "              precision    recall  f1-score   support\n",
      "\n",
      "       apple       1.00      1.00      1.00        18\n",
      "      banana       1.00      1.00      1.00        18\n",
      "   blackgram       0.86      0.82      0.84        22\n",
      "    chickpea       1.00      1.00      1.00        23\n",
      "     coconut       1.00      1.00      1.00        15\n",
      "      coffee       1.00      1.00      1.00        17\n",
      "      cotton       0.89      1.00      0.94        16\n",
      "      grapes       1.00      1.00      1.00        18\n",
      "        jute       0.84      1.00      0.91        21\n",
      " kidneybeans       1.00      1.00      1.00        20\n",
      "      lentil       0.94      0.94      0.94        17\n",
      "       maize       0.94      0.89      0.91        18\n",
      "       mango       1.00      1.00      1.00        21\n",
      "   mothbeans       0.88      0.92      0.90        25\n",
      "    mungbean       1.00      1.00      1.00        17\n",
      "   muskmelon       1.00      1.00      1.00        23\n",
      "      orange       1.00      1.00      1.00        23\n",
      "      papaya       1.00      0.95      0.98        21\n",
      "  pigeonpeas       1.00      1.00      1.00        22\n",
      " pomegranate       1.00      1.00      1.00        23\n",
      "        rice       1.00      0.84      0.91        25\n",
      "  watermelon       1.00      1.00      1.00        17\n",
      "\n",
      "    accuracy                           0.97       440\n",
      "   macro avg       0.97      0.97      0.97       440\n",
      "weighted avg       0.97      0.97      0.97       440\n",
      "\n"
     ]
    }
   ],
   "source": [
    "## Now print Classification report\n",
    "\n",
    "from sklearn.metrics import classification_report\n",
    "cr = classification_report(y_test, y_pred)\n",
    "print(cr)"
   ]
  },
  {
   "cell_type": "code",
   "execution_count": null,
   "id": "9fccfc52",
   "metadata": {},
   "outputs": [],
   "source": []
  }
 ],
 "metadata": {
  "kernelspec": {
   "display_name": "Python 3 (ipykernel)",
   "language": "python",
   "name": "python3"
  },
  "language_info": {
   "codemirror_mode": {
    "name": "ipython",
    "version": 3
   },
   "file_extension": ".py",
   "mimetype": "text/x-python",
   "name": "python",
   "nbconvert_exporter": "python",
   "pygments_lexer": "ipython3",
   "version": "3.9.7"
  }
 },
 "nbformat": 4,
 "nbformat_minor": 5
}
